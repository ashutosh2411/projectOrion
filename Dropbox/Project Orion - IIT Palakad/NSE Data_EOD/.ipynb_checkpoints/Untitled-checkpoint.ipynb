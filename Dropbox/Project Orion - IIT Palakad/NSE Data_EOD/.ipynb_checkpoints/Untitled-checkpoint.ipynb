{
 "cells": [
  {
   "cell_type": "code",
   "execution_count": 27,
   "metadata": {},
   "outputs": [
    {
     "name": "stdout",
     "output_type": "stream",
     "text": [
      "(2996, 1)\n",
      "[[  76.53]\n",
      " [  75.49]\n",
      " [  69.13]\n",
      " ..., \n",
      " [ 317.95]\n",
      " [ 318.5 ]\n",
      " [   0.  ]]\n"
     ]
    }
   ],
   "source": [
    "import pandas as pd\n",
    "import numpy as np\n",
    "from sklearn import svm\n",
    "\n",
    "features = np.genfromtxt(\"ICICIBANK-I.csv\" ,delimiter=','   )\n",
    "\n",
    "data=[]\n",
    "for x in features :\n",
    "    data.append(x[2:])\n",
    "\n",
    "data = np.transpose(data)\n",
    "closing = data[3][np.newaxis].T\n",
    "print(closing.shape)\n",
    "\n",
    "closing_ = np.vstack((closing,np.zeros(1)))\n",
    "closing = np.vstack((np.zeros(1),closing))\n",
    "print(closing_)\n",
    "\n",
    "\n",
    "\n",
    "\n",
    "\n",
    "\n",
    "\n",
    "\n",
    "\n",
    "\n"
   ]
  },
  {
   "cell_type": "code",
   "execution_count": 13,
   "metadata": {},
   "outputs": [
    {
     "ename": "SyntaxError",
     "evalue": "invalid syntax (<ipython-input-13-a1d71f2e102e>, line 3)",
     "output_type": "error",
     "traceback": [
      "\u001b[0;36m  File \u001b[0;32m\"<ipython-input-13-a1d71f2e102e>\"\u001b[0;36m, line \u001b[0;32m3\u001b[0m\n\u001b[0;31m    classifier = svm.SVC()\u001b[0m\n\u001b[0m             ^\u001b[0m\n\u001b[0;31mSyntaxError\u001b[0m\u001b[0;31m:\u001b[0m invalid syntax\n"
     ]
    }
   ],
   "source": [
    " \n",
    "classifier = svm.SVC()\n",
    "classifier.fit(features, )"
   ]
  },
  {
   "cell_type": "code",
   "execution_count": null,
   "metadata": {
    "collapsed": true
   },
   "outputs": [],
   "source": []
  }
 ],
 "metadata": {
  "kernelspec": {
   "display_name": "Python 3",
   "language": "python",
   "name": "python3"
  },
  "language_info": {
   "codemirror_mode": {
    "name": "ipython",
    "version": 3
   },
   "file_extension": ".py",
   "mimetype": "text/x-python",
   "name": "python",
   "nbconvert_exporter": "python",
   "pygments_lexer": "ipython3",
   "version": "3.6.1"
  }
 },
 "nbformat": 4,
 "nbformat_minor": 2
}
